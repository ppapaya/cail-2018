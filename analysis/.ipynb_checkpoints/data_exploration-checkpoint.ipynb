{
 "cells": [
  {
   "cell_type": "code",
   "execution_count": 7,
   "metadata": {
    "collapsed": false
   },
   "outputs": [],
   "source": [
    "from sklearn.feature_extraction.text import TfidfVectorizer as TFIDF\n",
    "import json\n",
    "# from predictor import data\n",
    "from sklearn.svm import LinearSVC\n",
    "from sklearn.externals import joblib\n",
    "import pickle\n",
    "import thulac\n",
    "import time\n",
    "from string import punctuation \n",
    "import jieba"
   ]
  },
  {
   "cell_type": "code",
   "execution_count": 1,
   "metadata": {
    "collapsed": true
   },
   "outputs": [],
   "source": [
    "def read_trainData(path):\n",
    "    fin = open(path, 'r', encoding = 'utf8')\n",
    "\n",
    "    alltext = []\n",
    "\n",
    "    accu_label = []\n",
    "    law_label = []\n",
    "    time_label = []\n",
    "\n",
    "    line = fin.readline()\n",
    "    count = 0\n",
    "    while line and count <= record_num:\n",
    "        # count += 1\n",
    "        d = json.loads(line)\n",
    "        alltext.append(d['fact'])\n",
    "#         accu_label.append(data.getlabel(d, 'accu'))\n",
    "#         law_label.append(data.getlabel(d, 'law'))\n",
    "#         time_label.append(data.getlabel(d, 'time'))\n",
    "        line = fin.readline()\n",
    "    fin.close()\n",
    "\n",
    "    return alltext"
   ]
  },
  {
   "cell_type": "code",
   "execution_count": 11,
   "metadata": {
    "collapsed": true
   },
   "outputs": [],
   "source": [
    "def cut_text_thulac(alltext):\n",
    "    count = 0\n",
    "    cut = thulac.thulac(seg_only = True)\n",
    "    train_text = []\n",
    "    for text in alltext:\n",
    "        count += 1\n",
    "        if count % 2000 == 0:\n",
    "            print(count)\n",
    "        train_text.append(cut.cut(text, text = True))\n",
    "\n",
    "    return train_text"
   ]
  },
  {
   "cell_type": "code",
   "execution_count": 4,
   "metadata": {
    "collapsed": true
   },
   "outputs": [],
   "source": [
    "record_num = 1000"
   ]
  },
  {
   "cell_type": "code",
   "execution_count": 8,
   "metadata": {
    "collapsed": false
   },
   "outputs": [],
   "source": [
    "text = read_trainData('../data/cail_0518/data_train.json')"
   ]
  },
  {
   "cell_type": "code",
   "execution_count": 24,
   "metadata": {
    "collapsed": false
   },
   "outputs": [
    {
     "data": {
      "text/plain": [
       "['昌宁县人民检察院指控，2014年4月19日下午16时许，被告人段某驾拖车经过鸡飞乡澡塘街子，时逢堵车，段某将车停在“冰凉一夏”冷饮店门口，被害人王某的侄子王2某示意段某靠边未果，后上前敲打车门让段某离开，段某遂驾车离开，但对此心生怨愤。同年4月21日22时许，被告人段某酒后与其妻子王1某一起准备回家，走到鸡飞乡澡塘街富达通讯手机店门口时停下，段某进入手机店内对被害人王某进行吼骂，紧接着从手机店出来拿得一个石头又冲进手机店内朝王某头部打去，致王某右额部粉碎性骨折、右眼眶骨骨折。经鉴定，被害人王某此次损伤程度为轻伤一级。',\n",
       " '公诉机关指控,2015年11月10日晚9时许，被告人李某的妹妹李某某与被害人华某某在桦川县悦来镇石锅烤肉吃饭时发生口角，华某某殴打李某某被他人拉开。后李某某打电话将此事告知李某。李某便开车接上李某某在悦来镇“0454饮吧”找到华某某并质问其因何殴打李某某，之后二人厮打在一起。李某用拳头、巴掌连续击打华某某脸部，致华受伤住院治疗。经桦川县公安局司法鉴定，华某某所受伤为轻伤二级。']"
      ]
     },
     "execution_count": 24,
     "metadata": {},
     "output_type": "execute_result"
    }
   ],
   "source": [
    "text[:2]"
   ]
  },
  {
   "cell_type": "code",
   "execution_count": 23,
   "metadata": {
    "collapsed": false
   },
   "outputs": [
    {
     "name": "stdout",
     "output_type": "stream",
     "text": [
      "Model loaded succeed\n"
     ]
    },
    {
     "data": {
      "text/plain": [
       "['昌宁县 人民 检察院 指控 ， 2014年 4月 19日 下午 16时 许 ， 被告人 段某 驾拖车 经过 鸡飞乡 澡塘 街子 ， 时 逢 堵车 ， 段某 将 车 停 在 “ 冰凉 一 夏 ” 冷饮店 门口 ， 被害人 王某 的 侄子 王2 某 示意 段 某 靠 边 未果 ， 后 上前 敲打 车门 让 段 某 离开 ， 段某 遂 驾车 离开 ， 但 对 此 心生 怨愤 。 同年 4月 21日 22时 许 ， 被告人 段 某 酒后 与 其 妻子 王1 某 一起 准备 回 家 ， 走 到 鸡飞乡 澡塘街 富达 通讯 手机 店 门口 时 停下 ， 段某 进入 手机 店 内 对 被害人 王某 进行 吼 骂 ， 紧接着 从 手机 店 出 来 拿 得 一个 石头 又 冲 进 手机 店 内 朝 王某 头部 打 去 ， 致 王某 右额 部 粉碎性 骨折 、 右 眼眶 骨骨折 。 经 鉴定 ， 被害人 王某 此次 损伤 程度 为 轻伤 一级 。',\n",
       " '公诉 机关 指控 , 2015年 11月 10日 晚 9时 许 ， 被告人 李某 的 妹妹 李 某某 与 被害人 华 某某 在 桦川县 悦 来 镇 石锅 烤肉 吃饭 时 发生 口角 ， 华某 某 殴打 李 某某 被 他人 拉开 。 后 李 某某 打电话 将 此 事 告知 李某 。 李某 便 开车 接 上 李 某某 在 悦 来 镇 “ 0454 饮 吧 ” 找到 华 某某 并质 问 其 因 何 殴打 李 某某 ， 之后 二 人 厮打 在 一起 。 李某 用 拳头 、 巴掌 连 续击 打华 某某 脸部 ， 致华 受伤 住院 治疗 。 经 桦川县 公安局 司法 鉴定 ， 华 某某 所 受伤 为 轻伤 二级 。']"
      ]
     },
     "execution_count": 23,
     "metadata": {},
     "output_type": "execute_result"
    }
   ],
   "source": [
    "cut_text_thulac(text[:2])"
   ]
  },
  {
   "cell_type": "code",
   "execution_count": 17,
   "metadata": {
    "collapsed": false
   },
   "outputs": [
    {
     "name": "stdout",
     "output_type": "stream",
     "text": [
      "昌宁县 人民检察院 指控 ， 2014 年 4 月 19 日 下午 16 时许 ， 被告人 段 某驾 拖车 经过 鸡飞乡 澡塘 街子 ， 时逢 堵车 ， 段 某 将 车 停 在 “ 冰凉 一夏 ” 冷饮店 门口 ， 被害人 王某 的 侄子 王 2 某 示意 段 某 靠边 未果 ， 后 上前 敲打 车门 让 段 某 离开 ， 段 某 遂 驾车 离开 ， 但 对此 心 生 怨愤 。 同年 4 月 21 日 22 时许 ， 被告人 段 某 酒后 与其 妻子 王 1 某 一起 准备 回家 ， 走到 鸡 飞乡 澡塘 街 富达 通讯 手机 店门口 时 停下 ， 段 某 进入 手机店 内 对 被害人 王某 进行 吼 骂 ， 紧接着 从 手机店 出来 拿 得 一个 石头 又 冲进 手机店 内朝王 某 头部 打 去 ， 致王 某右 额部 粉碎性 骨折 、 右 眼眶 骨 骨折 。 经 鉴定 ， 被害人 王某 此次 损伤 程度 为 轻伤 一级 。\n"
     ]
    }
   ],
   "source": [
    "seg_list = jieba.cut(text[0])  # 默认是精确模式\n",
    "print(\" \".join(seg_list))"
   ]
  },
  {
   "cell_type": "code",
   "execution_count": 25,
   "metadata": {
    "collapsed": false
   },
   "outputs": [
    {
     "name": "stdout",
     "output_type": "stream",
     "text": [
      "公诉 机关 指控 , 2015 年 11 月 10 日晚 9 时许 ， 被告人 李某 的 妹妹 李 某某 与 被害人 华 某某 在 桦川县 悦来 镇 石锅 烤肉 吃饭 时 发生 口角 ， 华 某某 殴打 李 某某 被 他人 拉开 。 后 李 某某 打电话 将 此事 告知 李某 。 李某 便 开车 接上 李 某某 在 悦来 镇 “ 0454 饮 吧 ” 找到 华 某某 并 质问 其 因何 殴打 李 某某 ， 之后 二人 厮打 在 一起 。 李某 用 拳头 、 巴掌 连续 击打 华 某某 脸部 ， 致华 受伤 住院治疗 。 经 桦川县 公安局 司法鉴定 ， 华 某某 所 受伤 为 轻伤 二级 。\n"
     ]
    }
   ],
   "source": [
    "seg_list = jieba.cut(text[1])  # 默认是精确模式\n",
    "print(\" \".join(seg_list))"
   ]
  },
  {
   "cell_type": "code",
   "execution_count": 31,
   "metadata": {
    "collapsed": false
   },
   "outputs": [],
   "source": [
    "# tokens = [text.split() for text in cut_text_thulac(text)]"
   ]
  },
  {
   "cell_type": "code",
   "execution_count": 49,
   "metadata": {
    "collapsed": true
   },
   "outputs": [],
   "source": [
    "from string import punctuation \n",
    "\n",
    "def clean_tokens(doc):\n",
    "    add_punc='，。、【】“”：；（）《》‘’{}？！⑦()、%^>℃：.”“^&#@￥×'\n",
    "    all_punc=punctuation+add_punc\n",
    "    tokens = doc.split()\n",
    "    tokens_clean = [token for token in tokens if token not in all_punc]\n",
    "    return tokens_clean"
   ]
  },
  {
   "cell_type": "code",
   "execution_count": 48,
   "metadata": {
    "collapsed": false
   },
   "outputs": [],
   "source": [
    "def cut_jieba(test_sent):\n",
    "    result = jieba.tokenize(test_sent)\n",
    "    cutted = ' '.join(tk[0]  for tk in result)\n",
    "    return cutted"
   ]
  },
  {
   "cell_type": "code",
   "execution_count": 43,
   "metadata": {
    "collapsed": false
   },
   "outputs": [],
   "source": [
    "text_cutted = [cut_jieba(doc) for doc in text]"
   ]
  },
  {
   "cell_type": "code",
   "execution_count": 44,
   "metadata": {
    "collapsed": false
   },
   "outputs": [
    {
     "data": {
      "text/plain": [
       "['昌宁县 人民检察院 指控 ， 2014 年 4 月 19 日 下午 16 时许 ， 被告人 段 某驾 拖车 经过 鸡飞乡 澡塘 街子 ， 时逢 堵车 ， 段 某 将 车 停 在 “ 冰凉 一夏 ” 冷饮店 门口 ， 被害人 王某 的 侄子 王 2 某 示意 段 某 靠边 未果 ， 后 上前 敲打 车门 让 段 某 离开 ， 段 某 遂 驾车 离开 ， 但 对此 心 生 怨愤 。 同年 4 月 21 日 22 时许 ， 被告人 段 某 酒后 与其 妻子 王 1 某 一起 准备 回家 ， 走到 鸡 飞乡 澡塘 街 富达 通讯 手机 店门口 时 停下 ， 段 某 进入 手机店 内 对 被害人 王某 进行 吼 骂 ， 紧接着 从 手机店 出来 拿 得 一个 石头 又 冲进 手机店 内朝王 某 头部 打 去 ， 致王 某右 额部 粉碎性 骨折 、 右 眼眶 骨 骨折 。 经 鉴定 ， 被害人 王某 此次 损伤 程度 为 轻伤 一级 。',\n",
       " '公诉 机关 指控 , 2015 年 11 月 10 日晚 9 时许 ， 被告人 李某 的 妹妹 李 某某 与 被害人 华 某某 在 桦川县 悦来 镇 石锅 烤肉 吃饭 时 发生 口角 ， 华 某某 殴打 李 某某 被 他人 拉开 。 后 李 某某 打电话 将 此事 告知 李某 。 李某 便 开车 接上 李 某某 在 悦来 镇 “ 0454 饮 吧 ” 找到 华 某某 并 质问 其 因何 殴打 李 某某 ， 之后 二人 厮打 在 一起 。 李某 用 拳头 、 巴掌 连续 击打 华 某某 脸部 ， 致华 受伤 住院治疗 。 经 桦川县 公安局 司法鉴定 ， 华 某某 所 受伤 为 轻伤 二级 。',\n",
       " '贵州省 平坝县 人民检察院 指控 ： 2014 年 4 月 9 日 下午 ， 被告人 王某 丁 与其 堂哥 王 4 某 （ 另案处理 ） 假释 驾驶 大 货车 （ 贵 A × × × × × ） 准备 到乐 某镇 大屯 村拉砂 ， 行至 大屯 村时 与 被害人 王某 乙 相遇 ， 王 4 某 与 王 某乙因 琐事 发生 矛盾 ， 准备 打架 时 被 路 人 劝开 ， 双方 离开 现场 。 之后 ， 王 4 某 打电话 邀约 王某 乙 打架 ， 接着 又 打电话 召集 郑 3 某 、 艾 1 某雷 、 邱某 （ 均 另案处理 ） 、 。 王 3 某王 6 某 、 王某 丁 与 艾 1 某雷 、 邱某 、 郑 3 某 等 人 聚集 后 ， 行至 乐某 商务 宾馆 门前 大街 上时 ， 与 被害人 高某 乙 、 王某 乙 、 王某 甲 、 李某 等 人 相遇 ， 王 4 某 、 王某 丁 等 人 就 从 郑 3 某 驾驶 的 面包车 上 拿出 杀猪刀 、 砍刀 等 凶器 准备 ， 当王 4 某于 与 高 某 乙 正在 交谈 时 ， 艾 1 某雷 大喊 一声 “ 杀 ” ， 王 4 某 、 郑 3 某 等 人 手持 凶器 将 高 某 乙 、 王某 乙 、 王某 甲 、 李某 杀伤 ， 王某 丁 等 人 手持 凶器 打砸 车身 。 在 将 对方 杀伤 后 ， 王 4 某 、 王某 丁 等 人 驾车 逃离现场 。 被害人 高某 乙 受伤 经 医院 抢救无效 ， 于 2014 年 4 月 9 日 17 时许 死亡 。 经 鉴定 ， 高 某乙系 创伤性 、 失血性 休克 死亡 ； 王某 甲 所受 之伤 为 轻伤 一级 ； 王某 乙所受 之伤 为 轻伤 二级 ； 李某 所受 之伤 为 轻微伤 。 公诉 机关 认为 ， 被告人 王某 丁 伙同 王 4 某 等 人 故意伤害 他人 身体 ， 致一人 死亡 ， 二人 受 轻伤 ， 一人受 轻微伤 ， 其 行为 触犯 了 《 中华人民共和国 刑法 》 × × × × ， 犯罪事实 清楚 ， 证据 确实 、 充分 ， 应当 以 × × 追究其 刑事责任 。 王某 丁 在 共同犯罪 中 其次 起 次要 作用 ， 是 从犯 ， 依法 应当 从轻 、 减轻 或者 免除 处罚 ； 其 到案 后 如实 公式 供述 自己 的 罪行 ， 是 坦白 ， 依法 可 从轻 处罚 。 根据 《 中华人民共和国 刑事诉讼法 》 × × 的 规定 ， 特 对 被告人 王某 丁 提起公诉 。 请 依法 判处 。',\n",
       " '经 审理 查明 ： 2014 年 5 月 6 日 14 时许 ， 被告人 叶 某某 驾车 途径 赤壁市 赵李桥镇 胜利 街 涵洞 时 ， 被 在 此处 饭店 外 的 朱 某某 等 人 挡住 去路 ， 叶 某某 与 朱 某某 为此 发生 争吵 。 随后 ， 叶 某某 到 赵李桥镇 街道 胡 某某 茶馆 准备 打牌 ， 将 自己 的 小车 停 在 茶馆 门前 。 朱 某某 的 丈夫 叶 某甲带 着 外甥 肖某 回家 时 ， 发现 叶 某某 的 车子 停 在 胡 某某 门外 ， 肖某 便 用 手 拍打 汽车 ， 扬言 要 打叶 某某 ， 后 被 胡 某某 劝离 。 叶 某某 随后 邀约 余 某某 、 黎 某某 、 黄 某某 、 陈 某某 （ 均 另案处理 ） 等 人 来到 叶 某甲 楼下 ， 与 叶 某甲 、 肖某 及 叶 某甲 另 一个 外甥 刘 某某 发生 厮打 ， 被告人 一伙 手持 木棍 、 砍刀 、 砖头 将叶 某甲 、 肖某 、 刘 某某 打伤 。 经 鉴定 ： 叶 某甲为 轻伤 二级 ， 肖某 、 刘 某某 均 为 轻微伤 ， 叶 某某 亦 受 轻微伤 。 2015 年 1 月 26 日 18 时许 ， 被告人 叶 某某 在 赤壁市 赵李桥镇 紫阳 酒店 被 公安民警 抓获归案 。 同时 查明 ， 当事人 双方 已 就 本案 民事 赔偿 问题 自愿 达成 如下 协议 ： 即 由 被告人 叶 某某 一次性 赔偿 被害人 叶 某甲 、 肖某 、 刘 某某 各项 经济损失 4 万元 ， 被害人 表示 不 追究 叶 某某 等 人 的 法律责任 。 上述事实 ， 被告人 叶 某某 在 开庭 过程 中 亦 无异议 ， 且 有 被害人 叶 某甲 、 肖某 、 刘 某某 的 陈述 、 证人 朱 某某 、 胡 某某 、 甘 某某 等 人 的 证言 、 辨认 笔录 、 鉴定 意见 、 调解 协议 、 谅解 书 、 户籍 证明 、 到案 经过 等 证据 证实 ， 足以认定 。',\n",
       " '安阳县 人民检察院 指控 ： 2014 年 4 月 27 日 上午 11 时许 ， 宋某 甲 在 安阳县 吕 村镇 翟奇务村 被告人 梁某 甲家 吃饭 时 ， 因 琐事 发生争执 ， 梁某 甲用 板凳 将 宋 某甲 头部 砸致 轻伤 。 案发后 民事 部分 已 调解 。 上述事实 ， 公诉 机关 向 本院 提供 了 被告人 供述 、 被害人 陈述 、 证人 证言 、 鉴定 意见 等 证据 ， 认为 被告人 的 行为 触犯 了 《 中华人民共和国 刑法 》 × × × × 之 规定 ， 构成 × × ， 提请 本院 依法 判处 。']"
      ]
     },
     "execution_count": 44,
     "metadata": {},
     "output_type": "execute_result"
    }
   ],
   "source": [
    "text_cutted[:5]"
   ]
  },
  {
   "cell_type": "code",
   "execution_count": 50,
   "metadata": {
    "collapsed": false
   },
   "outputs": [],
   "source": [
    "text_cutted_cleaned = [clean_tokens(doc) for doc in text_cutted]"
   ]
  },
  {
   "cell_type": "code",
   "execution_count": 52,
   "metadata": {
    "collapsed": false,
    "scrolled": false
   },
   "outputs": [
    {
     "data": {
      "text/plain": [
       "[['昌宁县',\n",
       "  '人民检察院',\n",
       "  '指控',\n",
       "  '2014',\n",
       "  '年',\n",
       "  '4',\n",
       "  '月',\n",
       "  '19',\n",
       "  '日',\n",
       "  '下午',\n",
       "  '16',\n",
       "  '时许',\n",
       "  '被告人',\n",
       "  '段',\n",
       "  '某驾',\n",
       "  '拖车',\n",
       "  '经过',\n",
       "  '鸡飞乡',\n",
       "  '澡塘',\n",
       "  '街子',\n",
       "  '时逢',\n",
       "  '堵车',\n",
       "  '段',\n",
       "  '某',\n",
       "  '将',\n",
       "  '车',\n",
       "  '停',\n",
       "  '在',\n",
       "  '冰凉',\n",
       "  '一夏',\n",
       "  '冷饮店',\n",
       "  '门口',\n",
       "  '被害人',\n",
       "  '王某',\n",
       "  '的',\n",
       "  '侄子',\n",
       "  '王',\n",
       "  '2',\n",
       "  '某',\n",
       "  '示意',\n",
       "  '段',\n",
       "  '某',\n",
       "  '靠边',\n",
       "  '未果',\n",
       "  '后',\n",
       "  '上前',\n",
       "  '敲打',\n",
       "  '车门',\n",
       "  '让',\n",
       "  '段',\n",
       "  '某',\n",
       "  '离开',\n",
       "  '段',\n",
       "  '某',\n",
       "  '遂',\n",
       "  '驾车',\n",
       "  '离开',\n",
       "  '但',\n",
       "  '对此',\n",
       "  '心',\n",
       "  '生',\n",
       "  '怨愤',\n",
       "  '同年',\n",
       "  '4',\n",
       "  '月',\n",
       "  '21',\n",
       "  '日',\n",
       "  '22',\n",
       "  '时许',\n",
       "  '被告人',\n",
       "  '段',\n",
       "  '某',\n",
       "  '酒后',\n",
       "  '与其',\n",
       "  '妻子',\n",
       "  '王',\n",
       "  '1',\n",
       "  '某',\n",
       "  '一起',\n",
       "  '准备',\n",
       "  '回家',\n",
       "  '走到',\n",
       "  '鸡',\n",
       "  '飞乡',\n",
       "  '澡塘',\n",
       "  '街',\n",
       "  '富达',\n",
       "  '通讯',\n",
       "  '手机',\n",
       "  '店门口',\n",
       "  '时',\n",
       "  '停下',\n",
       "  '段',\n",
       "  '某',\n",
       "  '进入',\n",
       "  '手机店',\n",
       "  '内',\n",
       "  '对',\n",
       "  '被害人',\n",
       "  '王某',\n",
       "  '进行',\n",
       "  '吼',\n",
       "  '骂',\n",
       "  '紧接着',\n",
       "  '从',\n",
       "  '手机店',\n",
       "  '出来',\n",
       "  '拿',\n",
       "  '得',\n",
       "  '一个',\n",
       "  '石头',\n",
       "  '又',\n",
       "  '冲进',\n",
       "  '手机店',\n",
       "  '内朝王',\n",
       "  '某',\n",
       "  '头部',\n",
       "  '打',\n",
       "  '去',\n",
       "  '致王',\n",
       "  '某右',\n",
       "  '额部',\n",
       "  '粉碎性',\n",
       "  '骨折',\n",
       "  '右',\n",
       "  '眼眶',\n",
       "  '骨',\n",
       "  '骨折',\n",
       "  '经',\n",
       "  '鉴定',\n",
       "  '被害人',\n",
       "  '王某',\n",
       "  '此次',\n",
       "  '损伤',\n",
       "  '程度',\n",
       "  '为',\n",
       "  '轻伤',\n",
       "  '一级']]"
      ]
     },
     "execution_count": 52,
     "metadata": {},
     "output_type": "execute_result"
    }
   ],
   "source": [
    "text_cutted_cleaned[:1]"
   ]
  },
  {
   "cell_type": "code",
   "execution_count": 54,
   "metadata": {
    "collapsed": true
   },
   "outputs": [],
   "source": [
    "import gensim"
   ]
  },
  {
   "cell_type": "code",
   "execution_count": null,
   "metadata": {
    "collapsed": false
   },
   "outputs": [],
   "source": [
    "model = gensim.models.Word2Vec(text_cutted_cleaned, size=100, window=10, min_count=5, workers=4)"
   ]
  },
  {
   "cell_type": "code",
   "execution_count": null,
   "metadata": {
    "collapsed": true
   },
   "outputs": [],
   "source": [
    "model.wv.most_similar(positive=['轻伤'])"
   ]
  }
 ],
 "metadata": {
  "kernelspec": {
   "display_name": "cail-2018-QlWnFUsI",
   "language": "python",
   "name": "cail-2018-qlwnfusi"
  },
  "language_info": {
   "codemirror_mode": {
    "name": "ipython",
    "version": 3
   },
   "file_extension": ".py",
   "mimetype": "text/x-python",
   "name": "python",
   "nbconvert_exporter": "python",
   "pygments_lexer": "ipython3",
   "version": "3.6.5"
  }
 },
 "nbformat": 4,
 "nbformat_minor": 0
}
